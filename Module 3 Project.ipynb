{
 "cells": [
  {
   "cell_type": "code",
   "execution_count": 171,
   "metadata": {},
   "outputs": [],
   "source": [
    "import numpy as np\n",
    "import pandas as pd\n",
    "from sklearn.linear_model import LogisticRegression\n",
    "#from sklearn.feature_extraction import \n",
    "import matplotlib.pyplot as plt\n",
    "import seaborn as sns\n",
    "from sklearn.impute import KNNImputer\n",
    "from sklearn.model_selection import train_test_split, RepeatedStratifiedKFold\n",
    "from sklearn.preprocessing import MinMaxScaler\n",
    "from sklearn.model_selection import GridSearchCV, RandomizedSearchCV\n",
    "from sklearn.svm import SVC\n",
    "from sklearn.tree import DecisionTreeClassifier\n",
    "from sklearn.ensemble import RandomForestClassifier, RandomForestRegressor, BaggingClassifier\n",
    "from sklearn.metrics import recall_score, f1_score, auc, roc_curve, classification_report, accuracy_score\n",
    "from sklearn.metrics import confusion_matrix, plot_confusion_matrix, plot_precision_recall_curve\n",
    "from imblearn.over_sampling import SMOTE\n",
    "from sklearn.neighbors import KNeighborsClassifier\n",
    "\n",
    "import xgboost as xgb\n",
    "\n",
    "\n",
    "%matplotlib inline\n",
    "\n",
    "def columns_under_x(df, n): #find columns in a DataFrame with unique values under 30\n",
    "    cols = list(df.columns)\n",
    "    #cols = [df[col] for col in cols if df[col].unique() < 30]\n",
    "    columns = []\n",
    "    for col in cols:\n",
    "        if len(list(df[col].unique())) < n:\n",
    "            columns.append(col)\n",
    "    return columns"
   ]
  },
  {
   "cell_type": "code",
   "execution_count": null,
   "metadata": {},
   "outputs": [],
   "source": []
  },
  {
   "cell_type": "markdown",
   "metadata": {},
   "source": [
    "# Problem Statement\n",
    "\n",
    "Hospital Y has learned that machine learning is the new buzzword that may help their hospitals save patients, as well as save money. Hospital Y has contacted Company X to inquire about machine learning methods and would like a model to determine the risk for cervical cancer. "
   ]
  },
  {
   "cell_type": "markdown",
   "metadata": {},
   "source": [
    "# Data Exploration"
   ]
  },
  {
   "cell_type": "markdown",
   "metadata": {},
   "source": [
    "Let's introduce the dataset. I am working on a model to determine the risk for cervical cancer depending on certain features. The last variable, Biopsy is a test to check for cevical cancer. It is an incision done on a piece of your body to determine f your cells are cancerous. The goal is to make a model that can determine if a Biopsy is needed to be performed."
   ]
  },
  {
   "cell_type": "code",
   "execution_count": 93,
   "metadata": {},
   "outputs": [
    {
     "data": {
      "text/html": [
       "<div>\n",
       "<style scoped>\n",
       "    .dataframe tbody tr th:only-of-type {\n",
       "        vertical-align: middle;\n",
       "    }\n",
       "\n",
       "    .dataframe tbody tr th {\n",
       "        vertical-align: top;\n",
       "    }\n",
       "\n",
       "    .dataframe thead th {\n",
       "        text-align: right;\n",
       "    }\n",
       "</style>\n",
       "<table border=\"1\" class=\"dataframe\">\n",
       "  <thead>\n",
       "    <tr style=\"text-align: right;\">\n",
       "      <th></th>\n",
       "      <th>Age</th>\n",
       "      <th>Number of sexual partners</th>\n",
       "      <th>First sexual intercourse</th>\n",
       "      <th>Num of pregnancies</th>\n",
       "      <th>Smokes</th>\n",
       "      <th>Smokes (years)</th>\n",
       "      <th>Smokes (packs/year)</th>\n",
       "      <th>Hormonal Contraceptives</th>\n",
       "      <th>Hormonal Contraceptives (years)</th>\n",
       "      <th>IUD</th>\n",
       "      <th>...</th>\n",
       "      <th>STDs: Time since first diagnosis</th>\n",
       "      <th>STDs: Time since last diagnosis</th>\n",
       "      <th>Dx:Cancer</th>\n",
       "      <th>Dx:CIN</th>\n",
       "      <th>Dx:HPV</th>\n",
       "      <th>Dx</th>\n",
       "      <th>Hinselmann</th>\n",
       "      <th>Schiller</th>\n",
       "      <th>Citology</th>\n",
       "      <th>Biopsy</th>\n",
       "    </tr>\n",
       "  </thead>\n",
       "  <tbody>\n",
       "    <tr>\n",
       "      <td>0</td>\n",
       "      <td>18</td>\n",
       "      <td>4.0</td>\n",
       "      <td>15.0</td>\n",
       "      <td>1.0</td>\n",
       "      <td>0.0</td>\n",
       "      <td>0.0</td>\n",
       "      <td>0.0</td>\n",
       "      <td>0.0</td>\n",
       "      <td>0.0</td>\n",
       "      <td>0.0</td>\n",
       "      <td>...</td>\n",
       "      <td>?</td>\n",
       "      <td>?</td>\n",
       "      <td>0</td>\n",
       "      <td>0</td>\n",
       "      <td>0</td>\n",
       "      <td>0</td>\n",
       "      <td>0</td>\n",
       "      <td>0</td>\n",
       "      <td>0</td>\n",
       "      <td>0</td>\n",
       "    </tr>\n",
       "    <tr>\n",
       "      <td>1</td>\n",
       "      <td>15</td>\n",
       "      <td>1.0</td>\n",
       "      <td>14.0</td>\n",
       "      <td>1.0</td>\n",
       "      <td>0.0</td>\n",
       "      <td>0.0</td>\n",
       "      <td>0.0</td>\n",
       "      <td>0.0</td>\n",
       "      <td>0.0</td>\n",
       "      <td>0.0</td>\n",
       "      <td>...</td>\n",
       "      <td>?</td>\n",
       "      <td>?</td>\n",
       "      <td>0</td>\n",
       "      <td>0</td>\n",
       "      <td>0</td>\n",
       "      <td>0</td>\n",
       "      <td>0</td>\n",
       "      <td>0</td>\n",
       "      <td>0</td>\n",
       "      <td>0</td>\n",
       "    </tr>\n",
       "    <tr>\n",
       "      <td>2</td>\n",
       "      <td>34</td>\n",
       "      <td>1.0</td>\n",
       "      <td>?</td>\n",
       "      <td>1.0</td>\n",
       "      <td>0.0</td>\n",
       "      <td>0.0</td>\n",
       "      <td>0.0</td>\n",
       "      <td>0.0</td>\n",
       "      <td>0.0</td>\n",
       "      <td>0.0</td>\n",
       "      <td>...</td>\n",
       "      <td>?</td>\n",
       "      <td>?</td>\n",
       "      <td>0</td>\n",
       "      <td>0</td>\n",
       "      <td>0</td>\n",
       "      <td>0</td>\n",
       "      <td>0</td>\n",
       "      <td>0</td>\n",
       "      <td>0</td>\n",
       "      <td>0</td>\n",
       "    </tr>\n",
       "    <tr>\n",
       "      <td>3</td>\n",
       "      <td>52</td>\n",
       "      <td>5.0</td>\n",
       "      <td>16.0</td>\n",
       "      <td>4.0</td>\n",
       "      <td>1.0</td>\n",
       "      <td>37.0</td>\n",
       "      <td>37.0</td>\n",
       "      <td>1.0</td>\n",
       "      <td>3.0</td>\n",
       "      <td>0.0</td>\n",
       "      <td>...</td>\n",
       "      <td>?</td>\n",
       "      <td>?</td>\n",
       "      <td>1</td>\n",
       "      <td>0</td>\n",
       "      <td>1</td>\n",
       "      <td>0</td>\n",
       "      <td>0</td>\n",
       "      <td>0</td>\n",
       "      <td>0</td>\n",
       "      <td>0</td>\n",
       "    </tr>\n",
       "    <tr>\n",
       "      <td>4</td>\n",
       "      <td>46</td>\n",
       "      <td>3.0</td>\n",
       "      <td>21.0</td>\n",
       "      <td>4.0</td>\n",
       "      <td>0.0</td>\n",
       "      <td>0.0</td>\n",
       "      <td>0.0</td>\n",
       "      <td>1.0</td>\n",
       "      <td>15.0</td>\n",
       "      <td>0.0</td>\n",
       "      <td>...</td>\n",
       "      <td>?</td>\n",
       "      <td>?</td>\n",
       "      <td>0</td>\n",
       "      <td>0</td>\n",
       "      <td>0</td>\n",
       "      <td>0</td>\n",
       "      <td>0</td>\n",
       "      <td>0</td>\n",
       "      <td>0</td>\n",
       "      <td>0</td>\n",
       "    </tr>\n",
       "    <tr>\n",
       "      <td>5</td>\n",
       "      <td>42</td>\n",
       "      <td>3.0</td>\n",
       "      <td>23.0</td>\n",
       "      <td>2.0</td>\n",
       "      <td>0.0</td>\n",
       "      <td>0.0</td>\n",
       "      <td>0.0</td>\n",
       "      <td>0.0</td>\n",
       "      <td>0.0</td>\n",
       "      <td>0.0</td>\n",
       "      <td>...</td>\n",
       "      <td>?</td>\n",
       "      <td>?</td>\n",
       "      <td>0</td>\n",
       "      <td>0</td>\n",
       "      <td>0</td>\n",
       "      <td>0</td>\n",
       "      <td>0</td>\n",
       "      <td>0</td>\n",
       "      <td>0</td>\n",
       "      <td>0</td>\n",
       "    </tr>\n",
       "    <tr>\n",
       "      <td>6</td>\n",
       "      <td>51</td>\n",
       "      <td>3.0</td>\n",
       "      <td>17.0</td>\n",
       "      <td>6.0</td>\n",
       "      <td>1.0</td>\n",
       "      <td>34.0</td>\n",
       "      <td>3.4</td>\n",
       "      <td>0.0</td>\n",
       "      <td>0.0</td>\n",
       "      <td>1.0</td>\n",
       "      <td>...</td>\n",
       "      <td>?</td>\n",
       "      <td>?</td>\n",
       "      <td>0</td>\n",
       "      <td>0</td>\n",
       "      <td>0</td>\n",
       "      <td>0</td>\n",
       "      <td>1</td>\n",
       "      <td>1</td>\n",
       "      <td>0</td>\n",
       "      <td>1</td>\n",
       "    </tr>\n",
       "    <tr>\n",
       "      <td>7</td>\n",
       "      <td>26</td>\n",
       "      <td>1.0</td>\n",
       "      <td>26.0</td>\n",
       "      <td>3.0</td>\n",
       "      <td>0.0</td>\n",
       "      <td>0.0</td>\n",
       "      <td>0.0</td>\n",
       "      <td>1.0</td>\n",
       "      <td>2.0</td>\n",
       "      <td>1.0</td>\n",
       "      <td>...</td>\n",
       "      <td>?</td>\n",
       "      <td>?</td>\n",
       "      <td>0</td>\n",
       "      <td>0</td>\n",
       "      <td>0</td>\n",
       "      <td>0</td>\n",
       "      <td>0</td>\n",
       "      <td>0</td>\n",
       "      <td>0</td>\n",
       "      <td>0</td>\n",
       "    </tr>\n",
       "    <tr>\n",
       "      <td>8</td>\n",
       "      <td>45</td>\n",
       "      <td>1.0</td>\n",
       "      <td>20.0</td>\n",
       "      <td>5.0</td>\n",
       "      <td>0.0</td>\n",
       "      <td>0.0</td>\n",
       "      <td>0.0</td>\n",
       "      <td>0.0</td>\n",
       "      <td>0.0</td>\n",
       "      <td>0.0</td>\n",
       "      <td>...</td>\n",
       "      <td>?</td>\n",
       "      <td>?</td>\n",
       "      <td>1</td>\n",
       "      <td>0</td>\n",
       "      <td>1</td>\n",
       "      <td>1</td>\n",
       "      <td>0</td>\n",
       "      <td>0</td>\n",
       "      <td>0</td>\n",
       "      <td>0</td>\n",
       "    </tr>\n",
       "    <tr>\n",
       "      <td>9</td>\n",
       "      <td>44</td>\n",
       "      <td>3.0</td>\n",
       "      <td>15.0</td>\n",
       "      <td>?</td>\n",
       "      <td>1.0</td>\n",
       "      <td>1.266972909</td>\n",
       "      <td>2.8</td>\n",
       "      <td>0.0</td>\n",
       "      <td>0.0</td>\n",
       "      <td>?</td>\n",
       "      <td>...</td>\n",
       "      <td>?</td>\n",
       "      <td>?</td>\n",
       "      <td>0</td>\n",
       "      <td>0</td>\n",
       "      <td>0</td>\n",
       "      <td>0</td>\n",
       "      <td>0</td>\n",
       "      <td>0</td>\n",
       "      <td>0</td>\n",
       "      <td>0</td>\n",
       "    </tr>\n",
       "  </tbody>\n",
       "</table>\n",
       "<p>10 rows × 36 columns</p>\n",
       "</div>"
      ],
      "text/plain": [
       "   Age Number of sexual partners First sexual intercourse Num of pregnancies  \\\n",
       "0   18                       4.0                     15.0                1.0   \n",
       "1   15                       1.0                     14.0                1.0   \n",
       "2   34                       1.0                        ?                1.0   \n",
       "3   52                       5.0                     16.0                4.0   \n",
       "4   46                       3.0                     21.0                4.0   \n",
       "5   42                       3.0                     23.0                2.0   \n",
       "6   51                       3.0                     17.0                6.0   \n",
       "7   26                       1.0                     26.0                3.0   \n",
       "8   45                       1.0                     20.0                5.0   \n",
       "9   44                       3.0                     15.0                  ?   \n",
       "\n",
       "  Smokes Smokes (years) Smokes (packs/year) Hormonal Contraceptives  \\\n",
       "0    0.0            0.0                 0.0                     0.0   \n",
       "1    0.0            0.0                 0.0                     0.0   \n",
       "2    0.0            0.0                 0.0                     0.0   \n",
       "3    1.0           37.0                37.0                     1.0   \n",
       "4    0.0            0.0                 0.0                     1.0   \n",
       "5    0.0            0.0                 0.0                     0.0   \n",
       "6    1.0           34.0                 3.4                     0.0   \n",
       "7    0.0            0.0                 0.0                     1.0   \n",
       "8    0.0            0.0                 0.0                     0.0   \n",
       "9    1.0    1.266972909                 2.8                     0.0   \n",
       "\n",
       "  Hormonal Contraceptives (years)  IUD  ... STDs: Time since first diagnosis  \\\n",
       "0                             0.0  0.0  ...                                ?   \n",
       "1                             0.0  0.0  ...                                ?   \n",
       "2                             0.0  0.0  ...                                ?   \n",
       "3                             3.0  0.0  ...                                ?   \n",
       "4                            15.0  0.0  ...                                ?   \n",
       "5                             0.0  0.0  ...                                ?   \n",
       "6                             0.0  1.0  ...                                ?   \n",
       "7                             2.0  1.0  ...                                ?   \n",
       "8                             0.0  0.0  ...                                ?   \n",
       "9                             0.0    ?  ...                                ?   \n",
       "\n",
       "  STDs: Time since last diagnosis Dx:Cancer Dx:CIN Dx:HPV Dx Hinselmann  \\\n",
       "0                               ?         0      0      0  0          0   \n",
       "1                               ?         0      0      0  0          0   \n",
       "2                               ?         0      0      0  0          0   \n",
       "3                               ?         1      0      1  0          0   \n",
       "4                               ?         0      0      0  0          0   \n",
       "5                               ?         0      0      0  0          0   \n",
       "6                               ?         0      0      0  0          1   \n",
       "7                               ?         0      0      0  0          0   \n",
       "8                               ?         1      0      1  1          0   \n",
       "9                               ?         0      0      0  0          0   \n",
       "\n",
       "  Schiller Citology Biopsy  \n",
       "0        0        0      0  \n",
       "1        0        0      0  \n",
       "2        0        0      0  \n",
       "3        0        0      0  \n",
       "4        0        0      0  \n",
       "5        0        0      0  \n",
       "6        1        0      1  \n",
       "7        0        0      0  \n",
       "8        0        0      0  \n",
       "9        0        0      0  \n",
       "\n",
       "[10 rows x 36 columns]"
      ]
     },
     "execution_count": 93,
     "metadata": {},
     "output_type": "execute_result"
    }
   ],
   "source": [
    "df = pd.read_csv('kag_risk_factors_cervical_cancer.csv')\n",
    "df.head(10)"
   ]
  },
  {
   "cell_type": "markdown",
   "metadata": {},
   "source": [
    "Initial look at the dataframe shows that some features may have a '?' variable to deal with. Also some of the data seems to be zero-centric."
   ]
  },
  {
   "cell_type": "code",
   "execution_count": 3,
   "metadata": {},
   "outputs": [
    {
     "data": {
      "text/plain": [
       "Age                                   0\n",
       "Number of sexual partners             0\n",
       "First sexual intercourse              0\n",
       "Num of pregnancies                    0\n",
       "Smokes                                0\n",
       "Smokes (years)                        0\n",
       "Smokes (packs/year)                   0\n",
       "Hormonal Contraceptives               0\n",
       "Hormonal Contraceptives (years)       0\n",
       "IUD                                   0\n",
       "IUD (years)                           0\n",
       "STDs                                  0\n",
       "STDs (number)                         0\n",
       "STDs:condylomatosis                   0\n",
       "STDs:cervical condylomatosis          0\n",
       "STDs:vaginal condylomatosis           0\n",
       "STDs:vulvo-perineal condylomatosis    0\n",
       "STDs:syphilis                         0\n",
       "STDs:pelvic inflammatory disease      0\n",
       "STDs:genital herpes                   0\n",
       "STDs:molluscum contagiosum            0\n",
       "STDs:AIDS                             0\n",
       "STDs:HIV                              0\n",
       "STDs:Hepatitis B                      0\n",
       "STDs:HPV                              0\n",
       "STDs: Number of diagnosis             0\n",
       "STDs: Time since first diagnosis      0\n",
       "STDs: Time since last diagnosis       0\n",
       "Dx:Cancer                             0\n",
       "Dx:CIN                                0\n",
       "Dx:HPV                                0\n",
       "Dx                                    0\n",
       "Hinselmann                            0\n",
       "Schiller                              0\n",
       "Citology                              0\n",
       "Biopsy                                0\n",
       "dtype: int64"
      ]
     },
     "execution_count": 3,
     "metadata": {},
     "output_type": "execute_result"
    }
   ],
   "source": [
    "df.isna().sum()"
   ]
  },
  {
   "cell_type": "markdown",
   "metadata": {},
   "source": [
    "There aren't any null values in the dataframe. Let's check how many ? values there are in the dataset."
   ]
  },
  {
   "cell_type": "code",
   "execution_count": 4,
   "metadata": {},
   "outputs": [
    {
     "data": {
      "text/plain": [
       "Age                                     0\n",
       "Number of sexual partners              26\n",
       "First sexual intercourse                7\n",
       "Num of pregnancies                     56\n",
       "Smokes                                 13\n",
       "Smokes (years)                         13\n",
       "Smokes (packs/year)                    13\n",
       "Hormonal Contraceptives               108\n",
       "Hormonal Contraceptives (years)       108\n",
       "IUD                                   117\n",
       "IUD (years)                           117\n",
       "STDs                                  105\n",
       "STDs (number)                         105\n",
       "STDs:condylomatosis                   105\n",
       "STDs:cervical condylomatosis          105\n",
       "STDs:vaginal condylomatosis           105\n",
       "STDs:vulvo-perineal condylomatosis    105\n",
       "STDs:syphilis                         105\n",
       "STDs:pelvic inflammatory disease      105\n",
       "STDs:genital herpes                   105\n",
       "STDs:molluscum contagiosum            105\n",
       "STDs:AIDS                             105\n",
       "STDs:HIV                              105\n",
       "STDs:Hepatitis B                      105\n",
       "STDs:HPV                              105\n",
       "STDs: Number of diagnosis               0\n",
       "STDs: Time since first diagnosis      787\n",
       "STDs: Time since last diagnosis       787\n",
       "Dx:Cancer                               0\n",
       "Dx:CIN                                  0\n",
       "Dx:HPV                                  0\n",
       "Dx                                      0\n",
       "Hinselmann                              0\n",
       "Schiller                                0\n",
       "Citology                                0\n",
       "Biopsy                                  0\n",
       "dtype: int64"
      ]
     },
     "execution_count": 4,
     "metadata": {},
     "output_type": "execute_result"
    }
   ],
   "source": [
    "df.isin(['?']).sum()"
   ]
  },
  {
   "cell_type": "markdown",
   "metadata": {},
   "source": [
    "Two columns show to have over 50% of missing values. We will drop them. Also let's change the '?' values into NaN values."
   ]
  },
  {
   "cell_type": "code",
   "execution_count": 94,
   "metadata": {},
   "outputs": [],
   "source": [
    "\n",
    "# replace 'NaN' with '?'\n",
    "df.replace(to_replace='?', value = np.NaN, inplace = True)\n",
    "df.drop(['STDs: Time since first diagnosis', 'STDs: Time since last diagnosis'], axis = 1, inplace = True)"
   ]
  },
  {
   "cell_type": "markdown",
   "metadata": {},
   "source": [
    "Great these are the actual NaN values."
   ]
  },
  {
   "cell_type": "code",
   "execution_count": 6,
   "metadata": {},
   "outputs": [
    {
     "data": {
      "text/plain": [
       "Age                                     0\n",
       "Number of sexual partners              26\n",
       "First sexual intercourse                7\n",
       "Num of pregnancies                     56\n",
       "Smokes                                 13\n",
       "Smokes (years)                         13\n",
       "Smokes (packs/year)                    13\n",
       "Hormonal Contraceptives               108\n",
       "Hormonal Contraceptives (years)       108\n",
       "IUD                                   117\n",
       "IUD (years)                           117\n",
       "STDs                                  105\n",
       "STDs (number)                         105\n",
       "STDs:condylomatosis                   105\n",
       "STDs:cervical condylomatosis          105\n",
       "STDs:vaginal condylomatosis           105\n",
       "STDs:vulvo-perineal condylomatosis    105\n",
       "STDs:syphilis                         105\n",
       "STDs:pelvic inflammatory disease      105\n",
       "STDs:genital herpes                   105\n",
       "STDs:molluscum contagiosum            105\n",
       "STDs:AIDS                             105\n",
       "STDs:HIV                              105\n",
       "STDs:Hepatitis B                      105\n",
       "STDs:HPV                              105\n",
       "STDs: Number of diagnosis               0\n",
       "Dx:Cancer                               0\n",
       "Dx:CIN                                  0\n",
       "Dx:HPV                                  0\n",
       "Dx                                      0\n",
       "Hinselmann                              0\n",
       "Schiller                                0\n",
       "Citology                                0\n",
       "Biopsy                                  0\n",
       "dtype: int64"
      ]
     },
     "execution_count": 6,
     "metadata": {},
     "output_type": "execute_result"
    }
   ],
   "source": [
    "df.isna().sum()"
   ]
  },
  {
   "cell_type": "markdown",
   "metadata": {},
   "source": [
    "We will deal with these labels soon. Let's first check the kind of data we have. "
   ]
  },
  {
   "cell_type": "code",
   "execution_count": 7,
   "metadata": {},
   "outputs": [
    {
     "name": "stdout",
     "output_type": "stream",
     "text": [
      "<class 'pandas.core.frame.DataFrame'>\n",
      "RangeIndex: 858 entries, 0 to 857\n",
      "Data columns (total 34 columns):\n",
      "Age                                   858 non-null int64\n",
      "Number of sexual partners             832 non-null object\n",
      "First sexual intercourse              851 non-null object\n",
      "Num of pregnancies                    802 non-null object\n",
      "Smokes                                845 non-null object\n",
      "Smokes (years)                        845 non-null object\n",
      "Smokes (packs/year)                   845 non-null object\n",
      "Hormonal Contraceptives               750 non-null object\n",
      "Hormonal Contraceptives (years)       750 non-null object\n",
      "IUD                                   741 non-null object\n",
      "IUD (years)                           741 non-null object\n",
      "STDs                                  753 non-null object\n",
      "STDs (number)                         753 non-null object\n",
      "STDs:condylomatosis                   753 non-null object\n",
      "STDs:cervical condylomatosis          753 non-null object\n",
      "STDs:vaginal condylomatosis           753 non-null object\n",
      "STDs:vulvo-perineal condylomatosis    753 non-null object\n",
      "STDs:syphilis                         753 non-null object\n",
      "STDs:pelvic inflammatory disease      753 non-null object\n",
      "STDs:genital herpes                   753 non-null object\n",
      "STDs:molluscum contagiosum            753 non-null object\n",
      "STDs:AIDS                             753 non-null object\n",
      "STDs:HIV                              753 non-null object\n",
      "STDs:Hepatitis B                      753 non-null object\n",
      "STDs:HPV                              753 non-null object\n",
      "STDs: Number of diagnosis             858 non-null int64\n",
      "Dx:Cancer                             858 non-null int64\n",
      "Dx:CIN                                858 non-null int64\n",
      "Dx:HPV                                858 non-null int64\n",
      "Dx                                    858 non-null int64\n",
      "Hinselmann                            858 non-null int64\n",
      "Schiller                              858 non-null int64\n",
      "Citology                              858 non-null int64\n",
      "Biopsy                                858 non-null int64\n",
      "dtypes: int64(10), object(24)\n",
      "memory usage: 228.0+ KB\n"
     ]
    }
   ],
   "source": [
    "df.info()"
   ]
  },
  {
   "cell_type": "markdown",
   "metadata": {},
   "source": [
    "Initial look at the columns show some datatyps as objects. We will change the columns with under 4 different values to 'category'."
   ]
  },
  {
   "cell_type": "markdown",
   "metadata": {},
   "source": [
    "The columns_under_x function captured most of the categorical columns. We do this to differentiate between the categorical and the continuous variables."
   ]
  },
  {
   "cell_type": "code",
   "execution_count": 97,
   "metadata": {},
   "outputs": [],
   "source": [
    "obj_cols = df.select_dtypes('object').columns\n",
    "\n",
    "df.loc[:, obj_cols] = df.loc[:, obj_cols].astype('float')\n",
    "df.loc[:, columns_under_x(df,4)] = df.loc[:, columns_under_x(df,4)].astype('category')"
   ]
  },
  {
   "cell_type": "code",
   "execution_count": 87,
   "metadata": {},
   "outputs": [
    {
     "name": "stdout",
     "output_type": "stream",
     "text": [
      "<class 'pandas.core.frame.DataFrame'>\n",
      "RangeIndex: 858 entries, 0 to 857\n",
      "Data columns (total 34 columns):\n",
      "Age                                   858 non-null int64\n",
      "Number of sexual partners             832 non-null float64\n",
      "First sexual intercourse              851 non-null float64\n",
      "Num of pregnancies                    802 non-null float64\n",
      "Smokes                                858 non-null int32\n",
      "Smokes (years)                        845 non-null float64\n",
      "Smokes (packs/year)                   845 non-null float64\n",
      "Hormonal Contraceptives               858 non-null int32\n",
      "Hormonal Contraceptives (years)       750 non-null float64\n",
      "IUD                                   858 non-null int32\n",
      "IUD (years)                           741 non-null float64\n",
      "STDs                                  858 non-null int32\n",
      "STDs (number)                         753 non-null float64\n",
      "STDs:condylomatosis                   858 non-null int32\n",
      "STDs:cervical condylomatosis          858 non-null int32\n",
      "STDs:vaginal condylomatosis           858 non-null int32\n",
      "STDs:vulvo-perineal condylomatosis    858 non-null int32\n",
      "STDs:syphilis                         858 non-null int32\n",
      "STDs:pelvic inflammatory disease      858 non-null int32\n",
      "STDs:genital herpes                   858 non-null int32\n",
      "STDs:molluscum contagiosum            858 non-null int32\n",
      "STDs:AIDS                             858 non-null int32\n",
      "STDs:HIV                              858 non-null int32\n",
      "STDs:Hepatitis B                      858 non-null int32\n",
      "STDs:HPV                              858 non-null int32\n",
      "STDs: Number of diagnosis             858 non-null int64\n",
      "Dx:Cancer                             858 non-null int32\n",
      "Dx:CIN                                858 non-null int32\n",
      "Dx:HPV                                858 non-null int32\n",
      "Dx                                    858 non-null int32\n",
      "Hinselmann                            858 non-null int32\n",
      "Schiller                              858 non-null int32\n",
      "Citology                              858 non-null int32\n",
      "Biopsy                                858 non-null int32\n",
      "dtypes: float64(8), int32(24), int64(2)\n",
      "memory usage: 147.6 KB\n"
     ]
    }
   ],
   "source": [
    "df.info()"
   ]
  },
  {
   "cell_type": "markdown",
   "metadata": {},
   "source": [
    "Continuous Variable Observations:\n",
    "\n",
    "The 1 group has smoked nearly twice as many years as the 0 group. This trend seems to follow along with IUD(years), STDs(number), and STDs:Number of diagnosis. The 1 group has also used Hormonal Contraceptives for nearly twice as many years as the group 0.  "
   ]
  },
  {
   "cell_type": "code",
   "execution_count": 98,
   "metadata": {},
   "outputs": [
    {
     "data": {
      "text/html": [
       "<div>\n",
       "<style scoped>\n",
       "    .dataframe tbody tr th:only-of-type {\n",
       "        vertical-align: middle;\n",
       "    }\n",
       "\n",
       "    .dataframe tbody tr th {\n",
       "        vertical-align: top;\n",
       "    }\n",
       "\n",
       "    .dataframe thead th {\n",
       "        text-align: right;\n",
       "    }\n",
       "</style>\n",
       "<table border=\"1\" class=\"dataframe\">\n",
       "  <thead>\n",
       "    <tr style=\"text-align: right;\">\n",
       "      <th></th>\n",
       "      <th>Age</th>\n",
       "      <th>Number of sexual partners</th>\n",
       "      <th>First sexual intercourse</th>\n",
       "      <th>Num of pregnancies</th>\n",
       "      <th>Smokes (years)</th>\n",
       "      <th>Smokes (packs/year)</th>\n",
       "      <th>Hormonal Contraceptives (years)</th>\n",
       "      <th>IUD (years)</th>\n",
       "      <th>STDs (number)</th>\n",
       "      <th>STDs: Number of diagnosis</th>\n",
       "    </tr>\n",
       "    <tr>\n",
       "      <th>Biopsy</th>\n",
       "      <th></th>\n",
       "      <th></th>\n",
       "      <th></th>\n",
       "      <th></th>\n",
       "      <th></th>\n",
       "      <th></th>\n",
       "      <th></th>\n",
       "      <th></th>\n",
       "      <th></th>\n",
       "      <th></th>\n",
       "    </tr>\n",
       "  </thead>\n",
       "  <tbody>\n",
       "    <tr>\n",
       "      <td>0</td>\n",
       "      <td>26.696139</td>\n",
       "      <td>2.528278</td>\n",
       "      <td>16.989950</td>\n",
       "      <td>2.258621</td>\n",
       "      <td>1.153474</td>\n",
       "      <td>0.438677</td>\n",
       "      <td>2.172409</td>\n",
       "      <td>0.497054</td>\n",
       "      <td>0.161429</td>\n",
       "      <td>0.079701</td>\n",
       "    </tr>\n",
       "    <tr>\n",
       "      <td>1</td>\n",
       "      <td>28.636364</td>\n",
       "      <td>2.518519</td>\n",
       "      <td>17.072727</td>\n",
       "      <td>2.541667</td>\n",
       "      <td>2.190129</td>\n",
       "      <td>0.665059</td>\n",
       "      <td>3.318000</td>\n",
       "      <td>0.750000</td>\n",
       "      <td>0.377358</td>\n",
       "      <td>0.200000</td>\n",
       "    </tr>\n",
       "  </tbody>\n",
       "</table>\n",
       "</div>"
      ],
      "text/plain": [
       "              Age  Number of sexual partners  First sexual intercourse  \\\n",
       "Biopsy                                                                   \n",
       "0       26.696139                   2.528278                 16.989950   \n",
       "1       28.636364                   2.518519                 17.072727   \n",
       "\n",
       "        Num of pregnancies  Smokes (years)  Smokes (packs/year)  \\\n",
       "Biopsy                                                            \n",
       "0                 2.258621        1.153474             0.438677   \n",
       "1                 2.541667        2.190129             0.665059   \n",
       "\n",
       "        Hormonal Contraceptives (years)  IUD (years)  STDs (number)  \\\n",
       "Biopsy                                                                \n",
       "0                              2.172409     0.497054       0.161429   \n",
       "1                              3.318000     0.750000       0.377358   \n",
       "\n",
       "        STDs: Number of diagnosis  \n",
       "Biopsy                             \n",
       "0                        0.079701  \n",
       "1                        0.200000  "
      ]
     },
     "execution_count": 98,
     "metadata": {},
     "output_type": "execute_result"
    }
   ],
   "source": [
    "df.groupby(['Biopsy']).mean()"
   ]
  },
  {
   "cell_type": "code",
   "execution_count": 263,
   "metadata": {},
   "outputs": [
    {
     "data": {
      "image/png": "[encoded data removed]",
      "text/plain": [
       "<Figure size 1080x1080 with 12 Axes>"
      ]
     },
     "metadata": {},
     "output_type": "display_data"
    }
   ],
   "source": [
    "df.hist(figsize=(15,15));"
   ]
  },
  {
   "cell_type": "code",
   "execution_count": 262,
   "metadata": {},
   "outputs": [
    {
     "data": {
      "image/png": "[encoded data removed]",
      "text/plain": [
       "<Figure size 432x288 with 1 Axes>"
      ]
     },
     "metadata": {},
     "output_type": "display_data"
    }
   ],
   "source": [
    "#Let's see the target variable distribution\n",
    "df['Biopsy'].value_counts().plot(kind = 'bar', xticks = df['Biopsy'])\n",
    "plt.xlabel('Biopsy')\n",
    "plt.ylabel('Count')\n",
    "\n",
    "plt.title('Has a biopsy been done?');"
   ]
  },
  {
   "cell_type": "markdown",
   "metadata": {},
   "source": [
    "There seems to be a huge imbalance on the dataset. The amount of positive Biopsy's is much less than there are no Biopsy's. We will have to deal with the imbalance in the near future using SMOTE. "
   ]
  },
  {
   "cell_type": "markdown",
   "metadata": {},
   "source": [
    "# Data Cleaning"
   ]
  },
  {
   "cell_type": "markdown",
   "metadata": {},
   "source": [
    "Before imputing any values, let's seperate our training and test set and run a classifier on the untouched dataset"
   ]
  },
  {
   "cell_type": "code",
   "execution_count": 5,
   "metadata": {},
   "outputs": [],
   "source": [
    "X = df.drop(['Biopsy'], axis = 1)\n",
    "y = df['Biopsy']\n",
    "X_train, X_test, y_train, y_test = train_test_split(X, y, test_size = 0.33, random_state = 40)\n",
    "\n",
    "#clf = xgb.XGBClassifier()\n",
    "\n",
    "#clf.fit(X_train, y_train)\n",
    "\n",
    "###y_hat_test = clf.predict(X_test)\n",
    "\n",
    "#print(classification_report(y_test, y_hat_test))"
   ]
  },
  {
   "cell_type": "markdown",
   "metadata": {},
   "source": [
    "Let's take a look at the distribution of all the variables.\n",
    "\n",
    "Upon visual inspection and column names, we can infer our continuous and categorical variables:\n",
    "\n",
    "Continuous : Age, First sexual intercourse, Hormonal Contraceptive(years), IUD (years) Num of pregnancies, Number of sexual partners, STDs (number), STDs: Number of diagnoses, Smokes (packs/year), Smokes (years)\n",
    "\n",
    "Categorical : Citology, Dx, Dx:CIN, Dx: Cancer, Dx:HPV, Hinselmann, Hormonal Contracetive, IUD, STDs\n",
    "\n",
    "The kurtosis of the continuous variables show a high level of skewness towards the tails of the distributions. "
   ]
  },
  {
   "cell_type": "code",
   "execution_count": 100,
   "metadata": {},
   "outputs": [
    {
     "data": {
      "text/plain": [
       "Number of sexual partners           76.023989\n",
       "First sexual intercourse             5.097673\n",
       "Num of pregnancies                   1.366969\n",
       "Smokes (years)                      29.493895\n",
       "Smokes (packs/year)                147.796918\n",
       "Hormonal Contraceptives (years)      9.956005\n",
       "IUD (years)                         39.929928\n",
       "STDs (number)                       10.910721\n",
       "dtype: float64"
      ]
     },
     "execution_count": 100,
     "metadata": {},
     "output_type": "execute_result"
    }
   ],
   "source": [
    "#continuous_columns = X_train\n",
    "X_train.select_dtypes('float64').kurtosis()"
   ]
  },
  {
   "cell_type": "code",
   "execution_count": 104,
   "metadata": {},
   "outputs": [
    {
     "data": {
      "text/plain": [
       "Age                           2.238496\n",
       "STDs: Number of diagnosis    18.379650\n",
       "dtype: float64"
      ]
     },
     "execution_count": 104,
     "metadata": {},
     "output_type": "execute_result"
    }
   ],
   "source": [
    "X_train.select_dtypes('int64').kurtosis()"
   ]
  },
  {
   "cell_type": "markdown",
   "metadata": {},
   "source": [
    " Given the visual inspection of the distributions and the kurtosis of the distributions of the continuous variables, we will impute the missing values of the training data using the median."
   ]
  },
  {
   "cell_type": "code",
   "execution_count": 6,
   "metadata": {},
   "outputs": [
    {
     "name": "stderr",
     "output_type": "stream",
     "text": [
      "C:\\Users\\Public\\Anaconda3\\lib\\site-packages\\pandas\\core\\generic.py:6287: SettingWithCopyWarning: \n",
      "A value is trying to be set on a copy of a slice from a DataFrame\n",
      "\n",
      "See the caveats in the documentation: http://pandas.pydata.org/pandas-docs/stable/user_guide/indexing.html#returning-a-view-versus-a-copy\n",
      "  self._update_inplace(new_data)\n"
     ]
    }
   ],
   "source": [
    "X_train['Age'].fillna(X_train['Age'].median(), inplace=True)\n",
    "X_train['First sexual intercourse'].fillna(X_train['First sexual intercourse'].median(), inplace=True)\n",
    "\n",
    "X_train['Num of pregnancies'].fillna(X_train['Num of pregnancies'].median(), inplace = True)\n",
    "\n",
    "X_train['Hormonal Contraceptives (years)'].fillna(X_train['Hormonal Contraceptives (years)'].median(), inplace = True)\n",
    "X_train['IUD (years)'].fillna(X_train['IUD (years)'].median(), inplace = True)\n",
    "\n",
    "X_train['Smokes (packs/year)'].fillna(X_train['Smokes (packs/year)'].median(), inplace = True)\n",
    "X_train['Smokes (years)'].fillna(X_train['Smokes (years)'].median(), inplace = True)\n",
    "\n",
    "#X_train['STDs (number)'] = X_train['STDs (number)'].astype('int', errors = 'ignore')\n",
    "X_train['STDs (number)'].fillna(X_train['STDs (number)'].median(), inplace = True)\n",
    "\n",
    "\n",
    "\n",
    "#X_train['Number of sexual partners'] = X_train['Number of sexual partners'].astype('float')\n",
    "X_train['Number of sexual partners'].fillna(X_train['Number of sexual partners'].median(), inplace = True)\n",
    "\n",
    "\n",
    "X_train['STDs: Number of diagnosis'].fillna(X_train['STDs: Number of diagnosis'].median(), inplace = True)\n",
    "\n",
    "cols = columns_under_x(X_train, 4)"
   ]
  },
  {
   "cell_type": "markdown",
   "metadata": {},
   "source": [
    "Continuous variables have now been imputed. Now we wll see what we can do with the categorical variables. The continuous variables are positively skewed. We can adjust this by applying log transformations."
   ]
  },
  {
   "cell_type": "code",
   "execution_count": 629,
   "metadata": {},
   "outputs": [
    {
     "name": "stderr",
     "output_type": "stream",
     "text": [
      "C:\\Users\\Public\\Anaconda3\\lib\\site-packages\\pandas\\core\\indexing.py:494: SettingWithCopyWarning: \n",
      "A value is trying to be set on a copy of a slice from a DataFrame.\n",
      "Try using .loc[row_indexer,col_indexer] = value instead\n",
      "\n",
      "See the caveats in the documentation: http://pandas.pydata.org/pandas-docs/stable/user_guide/indexing.html#returning-a-view-versus-a-copy\n",
      "  self.obj[item] = s\n"
     ]
    }
   ],
   "source": [
    "#pd.get_dummies(X_train, columns = X_train[columns_under_x(X_train, 4)].columns)\n",
    "cols = columns_under_x(X_train, 4)\n",
    "X_train.loc[:, cols] = X_train.loc[:, cols].astype('category')\n",
    "knn = KNNImputer(n_neighbors=11)\n",
    "X_train_knn_imputed = knn.fit_transform(X_train)\n",
    "\n",
    "X_train_knn_imputed = pd.DataFrame(data = X_train_knn_imputed, columns= X_train.columns)\n",
    "X_train_knn_imputed.loc[:,cols]= X_train_knn_imputed.loc[:, cols].round()\n",
    "X_train_knn_imputed = pd.get_dummies(X_train_knn_imputed,\n",
    "                                     columns = columns_under_x(X_train_knn_imputed, 4),\n",
    "                                     drop_first=True)\n"
   ]
  },
  {
   "cell_type": "code",
   "execution_count": 630,
   "metadata": {},
   "outputs": [
    {
     "name": "stdout",
     "output_type": "stream",
     "text": [
      "<class 'pandas.core.frame.DataFrame'>\n",
      "RangeIndex: 574 entries, 0 to 573\n",
      "Data columns (total 31 columns):\n",
      "Age                                       574 non-null float64\n",
      "Number of sexual partners                 574 non-null float64\n",
      "First sexual intercourse                  574 non-null float64\n",
      "Num of pregnancies                        574 non-null float64\n",
      "Smokes (years)                            574 non-null float64\n",
      "Smokes (packs/year)                       574 non-null float64\n",
      "Hormonal Contraceptives (years)           574 non-null float64\n",
      "IUD (years)                               574 non-null float64\n",
      "STDs (number)                             574 non-null float64\n",
      "STDs: Number of diagnosis                 574 non-null float64\n",
      "Smokes_1.0                                574 non-null uint8\n",
      "Hormonal Contraceptives_1.0               574 non-null uint8\n",
      "IUD_1.0                                   574 non-null uint8\n",
      "STDs_1.0                                  574 non-null uint8\n",
      "STDs:condylomatosis_1.0                   574 non-null uint8\n",
      "STDs:vaginal condylomatosis_1.0           574 non-null uint8\n",
      "STDs:vulvo-perineal condylomatosis_1.0    574 non-null uint8\n",
      "STDs:syphilis_1.0                         574 non-null uint8\n",
      "STDs:pelvic inflammatory disease_1.0      574 non-null uint8\n",
      "STDs:genital herpes_1.0                   574 non-null uint8\n",
      "STDs:molluscum contagiosum_1.0            574 non-null uint8\n",
      "STDs:HIV_1.0                              574 non-null uint8\n",
      "STDs:Hepatitis B_1.0                      574 non-null uint8\n",
      "STDs:HPV_1.0                              574 non-null uint8\n",
      "Dx:Cancer_1.0                             574 non-null uint8\n",
      "Dx:CIN_1.0                                574 non-null uint8\n",
      "Dx:HPV_1.0                                574 non-null uint8\n",
      "Dx_1.0                                    574 non-null uint8\n",
      "Hinselmann_1.0                            574 non-null uint8\n",
      "Schiller_1.0                              574 non-null uint8\n",
      "Citology_1.0                              574 non-null uint8\n",
      "dtypes: float64(10), uint8(21)\n",
      "memory usage: 56.7 KB\n"
     ]
    }
   ],
   "source": [
    "X_train_knn_imputed.info()"
   ]
  },
  {
   "cell_type": "code",
   "execution_count": 588,
   "metadata": {},
   "outputs": [
    {
     "data": {
      "text/plain": [
       "Age                                       0\n",
       "Number of sexual partners                 0\n",
       "First sexual intercourse                  0\n",
       "Num of pregnancies                        0\n",
       "Smokes (years)                            0\n",
       "Smokes (packs/year)                       0\n",
       "Hormonal Contraceptives (years)           0\n",
       "IUD (years)                               0\n",
       "STDs (number)                             0\n",
       "STDs: Number of diagnosis                 0\n",
       "Smokes_1.0                                0\n",
       "Hormonal Contraceptives_1.0               0\n",
       "IUD_1.0                                   0\n",
       "STDs_1.0                                  0\n",
       "STDs:condylomatosis_1.0                   0\n",
       "STDs:vaginal condylomatosis_1.0           0\n",
       "STDs:vulvo-perineal condylomatosis_1.0    0\n",
       "STDs:syphilis_1.0                         0\n",
       "STDs:pelvic inflammatory disease_1.0      0\n",
       "STDs:genital herpes_1.0                   0\n",
       "STDs:molluscum contagiosum_1.0            0\n",
       "STDs:HIV_1.0                              0\n",
       "STDs:Hepatitis B_1.0                      0\n",
       "STDs:HPV_1.0                              0\n",
       "Dx:Cancer_1                               0\n",
       "Dx:CIN_1                                  0\n",
       "Dx:HPV_1                                  0\n",
       "Dx_1                                      0\n",
       "Hinselmann_1                              0\n",
       "Schiller_1                                0\n",
       "Citology_1                                0\n",
       "dtype: int64"
      ]
     },
     "execution_count": 588,
     "metadata": {},
     "output_type": "execute_result"
    }
   ],
   "source": [
    "\n",
    "#pd.get_dummies(X_train[columns_under_x(X_train, 4)], columns = columns_under_x(X_train, 4), drop_first=True)\n",
    "#X_train_cat[columns_under_x(X_train,4)] = X_train[columns_under_x(X_train,4)].astype('category')\n",
    "#X_train = pd.get_dummies(X_train, columns = X_train[columns_under_x(X_train, 4)].columns, drop_first=True)\n",
    "X_train_knn_imputed.isna().sum()"
   ]
  },
  {
   "cell_type": "markdown",
   "metadata": {},
   "source": [
    "# Data Modeling\n",
    "\n",
    "Now let's see how this training model works on a test set. We will clean the test set using the original dataset. Then apply a logisitic regression on the test set."
   ]
  },
  {
   "cell_type": "code",
   "execution_count": 7,
   "metadata": {},
   "outputs": [
    {
     "ename": "NameError",
     "evalue": "name 'X_train_knn_imputed' is not defined",
     "output_type": "error",
     "traceback": [
      "\u001b[1;31m---------------------------------------------------------------------------\u001b[0m",
      "\u001b[1;31mNameError\u001b[0m                                 Traceback (most recent call last)",
      "\u001b[1;32m<ipython-input-7-e56d35050d1c>\u001b[0m in \u001b[0;36m<module>\u001b[1;34m\u001b[0m\n\u001b[0;32m      2\u001b[0m \u001b[0mscaler\u001b[0m \u001b[1;33m=\u001b[0m \u001b[0mMinMaxScaler\u001b[0m\u001b[1;33m(\u001b[0m\u001b[1;33m)\u001b[0m\u001b[1;33m\u001b[0m\u001b[1;33m\u001b[0m\u001b[0m\n\u001b[0;32m      3\u001b[0m \u001b[1;33m\u001b[0m\u001b[0m\n\u001b[1;32m----> 4\u001b[1;33m \u001b[0mX_train_scaled\u001b[0m \u001b[1;33m=\u001b[0m \u001b[0mscaler\u001b[0m\u001b[1;33m.\u001b[0m\u001b[0mfit_transform\u001b[0m\u001b[1;33m(\u001b[0m\u001b[0mX_train_knn_imputed\u001b[0m\u001b[1;33m)\u001b[0m\u001b[1;33m\u001b[0m\u001b[1;33m\u001b[0m\u001b[0m\n\u001b[0m\u001b[0;32m      5\u001b[0m \u001b[0mX_train_knn_imputed\u001b[0m \u001b[1;33m=\u001b[0m \u001b[0mpd\u001b[0m\u001b[1;33m.\u001b[0m\u001b[0mDataFrame\u001b[0m\u001b[1;33m(\u001b[0m\u001b[0mX_train_scaled\u001b[0m\u001b[1;33m,\u001b[0m \u001b[0mcolumns\u001b[0m\u001b[1;33m=\u001b[0m \u001b[0mX_train_knn_imputed\u001b[0m\u001b[1;33m.\u001b[0m\u001b[0mcolumns\u001b[0m\u001b[1;33m)\u001b[0m\u001b[1;33m\u001b[0m\u001b[1;33m\u001b[0m\u001b[0m\n\u001b[0;32m      6\u001b[0m \u001b[1;33m\u001b[0m\u001b[0m\n",
      "\u001b[1;31mNameError\u001b[0m: name 'X_train_knn_imputed' is not defined"
     ]
    }
   ],
   "source": [
    "#apply a minmaxscaler to the training data\n",
    "scaler = MinMaxScaler()\n",
    "\n",
    "X_train_scaled = scaler.fit_transform(X_train_knn_imputed)\n",
    "X_train_knn_imputed = pd.DataFrame(X_train_scaled, columns= X_train_knn_imputed.columns)\n",
    "\n",
    "#logisitic Regression on the imputed X_train data\n",
    "log = LogisticRegression(C = 1, solver = 'liblinear', penalty = 'l1')\n",
    "log.fit(X_train_knn_imputed, y_train)\n",
    "\n",
    "\n",
    "#fill missing continuous values for test set\n",
    "\n",
    "X_test['Age'].fillna(df['Age'].median(), inplace=True)\n",
    "X_test['First sexual intercourse'].fillna(df['First sexual intercourse'].median(), inplace=True)\n",
    "\n",
    "X_test['Num of pregnancies'].fillna(df['Num of pregnancies'].median(), inplace = True)\n",
    "\n",
    "X_test['Hormonal Contraceptives (years)'].fillna(df['Hormonal Contraceptives (years)'].median(), inplace = True)\n",
    "X_test['IUD (years)'].fillna(df['IUD (years)'].median(), inplace = True)\n",
    "\n",
    "X_test['Smokes (packs/year)'].fillna(df['Smokes (packs/year)'].median(), inplace = True)\n",
    "X_test['Smokes (years)'].fillna(df['Smokes (years)'].median(), inplace = True)\n",
    "\n",
    "#X_train['STDs (number)'] = X_train['STDs (number)'].astype('int', errors = 'ignore')\n",
    "X_test['STDs (number)'].fillna(df['STDs (number)'].median(), inplace = True)\n",
    "\n",
    "#X_train['Number of sexual partners'] = X_train['Number of sexual partners'].astype('float')\n",
    "X_test['Number of sexual partners'].fillna(df['Number of sexual partners'].median(), inplace = True)\n",
    "STDs_number = X_test['STDs: Number of diagnosis'].fillna(df['STDs: Number of diagnosis'].median(), \n",
    "                                                                                 inplace = True)\n",
    "\n",
    "#impute missing categorical variables using KNNImputer\n",
    "\n",
    "knn = KNNImputer(n_neighbors=11)\n",
    "X_test_knn_imputed = knn.fit_transform(X_test)\n",
    "\n",
    "X_test_knn_imputed = pd.DataFrame(data = X_test_knn_imputed, columns= X_test.columns)\n",
    "X_test_knn_imputed.loc[:,cols]= X_test_knn_imputed.loc[:, cols].round()\n",
    "X_test_knn_imputed = pd.get_dummies(X_test_knn_imputed,\n",
    "                                    columns = columns_under_x(X_test_knn_imputed, 4),\n",
    "                                    drop_first=True\n",
    "                                    )\n",
    "#find columns dropped \n",
    "\n",
    "cols_to_add = list(set(X_train_knn_imputed.columns).difference(set(X_test_knn_imputed.columns)))\n",
    "\n",
    "#add columns dropped from drop_first\n",
    "\n",
    "for col in cols_to_add:\n",
    "    X_test_knn_imputed[col] = np.zeros((284,1))\n",
    "\n",
    "X_test_knn_imputed.drop('STDs: Number of diagnosis_1.0', axis = 1, inplace = True)\n",
    "\n",
    "#Apply a MinMaxScaler to test set\n",
    "scaler = MinMaxScaler()\n",
    "X_test_scaled = scaler.fit_transform(X_test_knn_imputed)\n",
    "X_test_knn_imputed = pd.DataFrame(X_test_scaled, columns=X_test_knn_imputed.columns)\n",
    "\n",
    "y_hat_test = log.predict(X_test_knn_imputed)\n",
    "\n",
    "#y_hat_train = log.predict(X_train)\n",
    "\n",
    "print(classification_report(y_test, y_hat_test))"
   ]
  },
  {
   "cell_type": "markdown",
   "metadata": {},
   "source": [
    "The KNNImputer has inaccurately classed any of the positive cases. Let's try imputation of the categorcal variables with the mode instead."
   ]
  },
  {
   "cell_type": "code",
   "execution_count": 8,
   "metadata": {},
   "outputs": [],
   "source": [
    "X_train_copy = X_train.copy()\n",
    "X_train_copy.loc[:, cols] = X_train_copy[cols].astype('int')\n",
    "for col in cols:\n",
    "    X_train_copy[col].fillna(X_train_copy[col].mode(), inplace = True)\n",
    "    \n",
    "#scale the X_train data\n",
    "scaler = MinMaxScaler()\n",
    "X_train_scaled = scaler.fit_transform(X_train_copy)\n",
    "X_train_scaled = pd.DataFrame(X_train_scaled, columns = X_train_copy.columns)\n",
    "\n",
    "X_test_copy = X_test.copy()\n",
    "\n",
    "X_test_copy['Age'].fillna(df['Age'].median(), inplace=True)\n",
    "X_test_copy['First sexual intercourse'].fillna(df['First sexual intercourse'].median(), inplace=True)\n",
    "\n",
    "X_test_copy['Num of pregnancies'].fillna(df['Num of pregnancies'].median(), inplace = True)\n",
    "\n",
    "X_test_copy['Hormonal Contraceptives (years)'].fillna(df['Hormonal Contraceptives (years)'].median(), inplace = True)\n",
    "X_test_copy['IUD (years)'].fillna(df['IUD (years)'].median(), inplace = True)\n",
    "\n",
    "X_test_copy['Smokes (packs/year)'].fillna(df['Smokes (packs/year)'].median(), inplace = True)\n",
    "X_test_copy['Smokes (years)'].fillna(df['Smokes (years)'].median(), inplace = True)\n",
    "\n",
    "#X_train['STDs (number)'] = X_train['STDs (number)'].astype('int', errors = 'ignore')\n",
    "X_test_copy['STDs (number)'].fillna(df['STDs (number)'].median(), inplace = True)\n",
    "\n",
    "#X_train['Number of sexual partners'] = X_train['Number of sexual partners'].astype('float')\n",
    "X_test_copy['Number of sexual partners'].fillna(df['Number of sexual partners'].median(), inplace = True)\n",
    "#STDs_number = X_test['STDs: Number of diagnosis'].fillna(df['STDs: Number of diagnosis'].median(), \n",
    " #                                                                                inplace = True)\n",
    "\n",
    "X_test_copy.loc[:, cols] = X_test_copy[cols].astype('int')\n",
    "for col in cols:\n",
    "    X_test_copy[col].fillna(X_test_copy[col].mode(), inplace = True)\n",
    "\n",
    "#fit and transform the X_test using a MinMaxScaler\n",
    "X_test_scaled = scaler.fit_transform(X_test_copy)\n",
    "X_test_scaled = pd.DataFrame(X_test_scaled, columns = X_test_copy.columns)"
   ]
  },
  {
   "cell_type": "markdown",
   "metadata": {},
   "source": [
    "Great! The logisitic regresson worked. However the results are rather poor. The accuracy of detecting 0's s not as important as actually catching 1's. The 1's are cases that actually have cancer. With the recall at 67%, this means that 33% of the test data are giving out false negatives, or to say people that actually need a Biopsy are not gven one. This is not so good."
   ]
  },
  {
   "cell_type": "code",
   "execution_count": 10,
   "metadata": {},
   "outputs": [
    {
     "name": "stdout",
     "output_type": "stream",
     "text": [
      "<class 'pandas.core.frame.DataFrame'>\n",
      "Int64Index: 574 entries, 561 to 326\n",
      "Data columns (total 33 columns):\n",
      "Age                                   574 non-null int64\n",
      "Number of sexual partners             574 non-null float64\n",
      "First sexual intercourse              574 non-null float64\n",
      "Num of pregnancies                    574 non-null float64\n",
      "Smokes                                574 non-null int32\n",
      "Smokes (years)                        574 non-null float64\n",
      "Smokes (packs/year)                   574 non-null float64\n",
      "Hormonal Contraceptives               574 non-null int32\n",
      "Hormonal Contraceptives (years)       574 non-null float64\n",
      "IUD                                   574 non-null int32\n",
      "IUD (years)                           574 non-null float64\n",
      "STDs                                  574 non-null int32\n",
      "STDs (number)                         574 non-null float64\n",
      "STDs:condylomatosis                   574 non-null int32\n",
      "STDs:cervical condylomatosis          574 non-null int32\n",
      "STDs:vaginal condylomatosis           574 non-null int32\n",
      "STDs:vulvo-perineal condylomatosis    574 non-null int32\n",
      "STDs:syphilis                         574 non-null int32\n",
      "STDs:pelvic inflammatory disease      574 non-null int32\n",
      "STDs:genital herpes                   574 non-null int32\n",
      "STDs:molluscum contagiosum            574 non-null int32\n",
      "STDs:AIDS                             574 non-null int32\n",
      "STDs:HIV                              574 non-null int32\n",
      "STDs:Hepatitis B                      574 non-null int32\n",
      "STDs:HPV                              574 non-null int32\n",
      "STDs: Number of diagnosis             574 non-null int64\n",
      "Dx:Cancer                             574 non-null int32\n",
      "Dx:CIN                                574 non-null int32\n",
      "Dx:HPV                                574 non-null int32\n",
      "Dx                                    574 non-null int32\n",
      "Hinselmann                            574 non-null int32\n",
      "Schiller                              574 non-null int32\n",
      "Citology                              574 non-null int32\n",
      "dtypes: float64(8), int32(23), int64(2)\n",
      "memory usage: 100.9 KB\n"
     ]
    }
   ],
   "source": [
    "X_train_copy.info()"
   ]
  },
  {
   "cell_type": "code",
   "execution_count": 111,
   "metadata": {},
   "outputs": [
    {
     "name": "stdout",
     "output_type": "stream",
     "text": [
      "              precision    recall  f1-score   support\n",
      "\n",
      "           0       0.99      0.98      0.98       271\n",
      "           1       0.62      0.77      0.69        13\n",
      "\n",
      "    accuracy                           0.97       284\n",
      "   macro avg       0.81      0.87      0.84       284\n",
      "weighted avg       0.97      0.97      0.97       284\n",
      "\n"
     ]
    }
   ],
   "source": [
    "log = LogisticRegression(C = 1, solver = 'liblinear',penalty = 'l1' )\n",
    "#X_train_encoded = pd.get_dummies(X_train_copy, columns = cols)\n",
    "#X_test_encoded = pd.get_dummies(X_test_copy, columns= cols)\n",
    "log.fit(X_train_scaled, y_train)\n",
    "\n",
    "y_hat_test = log.predict(X_test_scaled)\n",
    "\n",
    "print(classification_report(y_hat_test, y_test))"
   ]
  },
  {
   "cell_type": "code",
   "execution_count": 117,
   "metadata": {},
   "outputs": [
    {
     "name": "stdout",
     "output_type": "stream",
     "text": [
      "              precision    recall  f1-score   support\n",
      "\n",
      "           0       0.97      0.99      0.98       268\n",
      "           1       0.69      0.56      0.62        16\n",
      "\n",
      "    accuracy                           0.96       284\n",
      "   macro avg       0.83      0.77      0.80       284\n",
      "weighted avg       0.96      0.96      0.96       284\n",
      "\n"
     ]
    }
   ],
   "source": [
    "svc = SVC(kernel = 'linear', C = 50, gamma = 'scale')\n",
    "\n",
    "svc.fit(X_train_scaled, y_train)\n",
    "\n",
    "y_hat_test = svc.predict(X_test_scaled)\n",
    "\n",
    "print(classification_report(y_test, y_hat_test))"
   ]
  },
  {
   "cell_type": "code",
   "execution_count": 13,
   "metadata": {},
   "outputs": [
    {
     "data": {
      "text/plain": [
       "Age                                   0\n",
       "Number of sexual partners             0\n",
       "First sexual intercourse              0\n",
       "Num of pregnancies                    0\n",
       "Smokes                                0\n",
       "Smokes (years)                        0\n",
       "Smokes (packs/year)                   0\n",
       "Hormonal Contraceptives               0\n",
       "Hormonal Contraceptives (years)       0\n",
       "IUD                                   0\n",
       "IUD (years)                           0\n",
       "STDs                                  0\n",
       "STDs (number)                         0\n",
       "STDs:condylomatosis                   0\n",
       "STDs:cervical condylomatosis          0\n",
       "STDs:vaginal condylomatosis           0\n",
       "STDs:vulvo-perineal condylomatosis    0\n",
       "STDs:syphilis                         0\n",
       "STDs:pelvic inflammatory disease      0\n",
       "STDs:genital herpes                   0\n",
       "STDs:molluscum contagiosum            0\n",
       "STDs:AIDS                             0\n",
       "STDs:HIV                              0\n",
       "STDs:Hepatitis B                      0\n",
       "STDs:HPV                              0\n",
       "STDs: Number of diagnosis             0\n",
       "Dx:Cancer                             0\n",
       "Dx:CIN                                0\n",
       "Dx:HPV                                0\n",
       "Dx                                    0\n",
       "Hinselmann                            0\n",
       "Schiller                              0\n",
       "Citology                              0\n",
       "dtype: int64"
      ]
     },
     "execution_count": 13,
     "metadata": {},
     "output_type": "execute_result"
    }
   ],
   "source": [
    "X_train_copy.isna().sum()"
   ]
  },
  {
   "cell_type": "code",
   "execution_count": 143,
   "metadata": {},
   "outputs": [
    {
     "name": "stdout",
     "output_type": "stream",
     "text": [
      "Fitting 5 folds for each of 5 candidates, totalling 25 fits\n"
     ]
    },
    {
     "name": "stderr",
     "output_type": "stream",
     "text": [
      "[Parallel(n_jobs=-1)]: Using backend LokyBackend with 4 concurrent workers.\n",
      "[Parallel(n_jobs=-1)]: Done  25 out of  25 | elapsed:    3.9s finished\n"
     ]
    },
    {
     "name": "stdout",
     "output_type": "stream",
     "text": [
      "Fitting 5 folds for each of 12 candidates, totalling 60 fits\n"
     ]
    },
    {
     "name": "stderr",
     "output_type": "stream",
     "text": [
      "[Parallel(n_jobs=-1)]: Using backend LokyBackend with 4 concurrent workers.\n",
      "[Parallel(n_jobs=-1)]: Done  33 tasks      | elapsed:    4.2s\n",
      "[Parallel(n_jobs=-1)]: Done  60 out of  60 | elapsed:   10.7s finished\n"
     ]
    },
    {
     "name": "stdout",
     "output_type": "stream",
     "text": [
      "Fitting 5 folds for each of 36 candidates, totalling 180 fits\n"
     ]
    },
    {
     "name": "stderr",
     "output_type": "stream",
     "text": [
      "[Parallel(n_jobs=-1)]: Using backend LokyBackend with 4 concurrent workers.\n",
      "[Parallel(n_jobs=-1)]: Done 180 out of 180 | elapsed:    1.1s finished\n"
     ]
    },
    {
     "name": "stdout",
     "output_type": "stream",
     "text": [
      "Fitting 5 folds for each of 3 candidates, totalling 15 fits\n"
     ]
    },
    {
     "name": "stderr",
     "output_type": "stream",
     "text": [
      "[Parallel(n_jobs=-1)]: Using backend LokyBackend with 4 concurrent workers.\n",
      "[Parallel(n_jobs=-1)]: Done   8 out of  15 | elapsed:    0.2s remaining:    0.2s\n",
      "[Parallel(n_jobs=-1)]: Done  15 out of  15 | elapsed:    7.4s finished\n"
     ]
    },
    {
     "name": "stdout",
     "output_type": "stream",
     "text": [
      "Fitting 5 folds for each of 48 candidates, totalling 240 fits\n"
     ]
    },
    {
     "name": "stderr",
     "output_type": "stream",
     "text": [
      "[Parallel(n_jobs=-1)]: Using backend LokyBackend with 4 concurrent workers.\n",
      "[Parallel(n_jobs=-1)]: Done 240 out of 240 | elapsed:    1.1s finished\n"
     ]
    }
   ],
   "source": [
    "svm = []\n",
    "random_forest = []\n",
    "log_reg = []\n",
    "svm = []\n",
    "dtrees = []\n",
    "k_nn = []\n",
    "\n",
    "support_vector_model = SVC()\n",
    "random_forest_model = RandomForestClassifier()\n",
    "log_reg_model = LogisticRegression()\n",
    "bagging_model = BaggingClassifier()\n",
    "knn_model = KNeighborsClassifier()\n",
    "xgb_model = xgb.XGBClassifier()\n",
    "\n",
    "grid_output = []\n",
    "grid_output2 = []\n",
    "svm_grid = []\n",
    "\n",
    "svc_param_grid = {\n",
    "    'kernel' : ['linear'],\n",
    "    'C' : [50, 10, 1.0, 0.1, 0.01],\n",
    "    'gamma' : ['scale']\n",
    "}\n",
    "\n",
    "rf_param_grid = {\n",
    "    'n_estimators':[10, 100, 1000],\n",
    "    'criterion': ['gini', 'entropy'],\n",
    "    'max_features': ['sqrt', 'log2']\n",
    "}\n",
    "log_param_grid = {\n",
    "    'solver': ['newton-cg', 'liblinear', 'lbfgs'],\n",
    "    'C' : [1e12, 100, 10, 1.0, 0.1, 0.01],\n",
    "    'penalty': ['l1', 'l2']\n",
    "}\n",
    "\n",
    "bagging_param_grid = {\n",
    "    'n_estimators' : [10, 100, 1000],\n",
    "    \n",
    "}\n",
    "\n",
    "knn_param_grid = {\n",
    "    'n_neighbors' : [1,3,5,7,9,11,13,15],\n",
    "    'weights' : ['uniform', 'distance'],\n",
    "    'metric' : ['euclidean', 'manhattan', 'minkowski']\n",
    "}\n",
    "models = [support_vector_model, random_forest_model, log_reg_model, bagging_model, knn_model]\n",
    "grids = [svc_param_grid, rf_param_grid, log_param_grid, bagging_param_grid, knn_param_grid]\n",
    "\n",
    "#random_search = GridSearchCV(log, X_train, random_state= 42)\n",
    "\n",
    "#random_search.fit(X_train)\n",
    "for n, model in enumerate(models):\n",
    "    grid = GridSearchCV(estimator= model, param_grid= grids[n], n_jobs = -1, verbose = 2)\n",
    "    grid2 = GridSearchCV(estimator = model, param_grid= grids[n], n_jobs = -1, scoring = 'roc_auc')\n",
    "    grid.fit(X_train_scaled, y_train)\n",
    "    grid2.fit(X_train_scaled, y_train)\n",
    "    grid_output.append(grid)\n",
    "    grid_output2.append(grid2)\n",
    "    \n",
    "    \n",
    "#sc = SVC(kernel='linear')\n",
    "\n",
    "#sc.fit(X_train, y_train)\n",
    "\n",
    "#y_hat_test = sc.predict(X_test)\n",
    "\n",
    "#print(classification_report(y_test, y_hat_test))"
   ]
  },
  {
   "cell_type": "code",
   "execution_count": 16,
   "metadata": {},
   "outputs": [
    {
     "data": {
      "text/plain": [
       "{'criterion': 'gini', 'max_features': 'sqrt', 'n_estimators': 10}"
      ]
     },
     "execution_count": 16,
     "metadata": {},
     "output_type": "execute_result"
    }
   ],
   "source": [
    "grid_output[1].best_params_"
   ]
  },
  {
   "cell_type": "code",
   "execution_count": 118,
   "metadata": {},
   "outputs": [
    {
     "data": {
      "text/plain": [
       "{'C': 50, 'gamma': 'scale', 'kernel': 'linear'}"
      ]
     },
     "execution_count": 118,
     "metadata": {},
     "output_type": "execute_result"
    }
   ],
   "source": [
    "grid_output[0].best_params_"
   ]
  },
  {
   "cell_type": "code",
   "execution_count": 145,
   "metadata": {},
   "outputs": [
    {
     "data": {
      "text/plain": [
       "{'C': 0.1, 'gamma': 'scale', 'kernel': 'linear'}"
      ]
     },
     "execution_count": 145,
     "metadata": {},
     "output_type": "execute_result"
    }
   ],
   "source": [
    "grid_output2[0].best_params_"
   ]
  },
  {
   "cell_type": "code",
   "execution_count": 147,
   "metadata": {},
   "outputs": [
    {
     "name": "stdout",
     "output_type": "stream",
     "text": [
      "              precision    recall  f1-score   support\n",
      "\n",
      "           0       1.00      0.97      0.98       268\n",
      "           1       0.68      0.94      0.79        16\n",
      "\n",
      "    accuracy                           0.97       284\n",
      "   macro avg       0.84      0.96      0.89       284\n",
      "weighted avg       0.98      0.97      0.97       284\n",
      "\n"
     ]
    }
   ],
   "source": [
    "svc = SVC(C = 0.1, gamma='scale', kernel = 'linear')\n",
    "svc.fit(X_train_scaled, y_train)\n",
    "\n",
    "y_hat_test = svc.predict(X_test_scaled)\n",
    "\n",
    "print(classification_report(y_test, y_hat_test))"
   ]
  },
  {
   "cell_type": "code",
   "execution_count": 120,
   "metadata": {},
   "outputs": [
    {
     "data": {
      "text/plain": [
       "{'criterion': 'gini', 'max_features': 'sqrt', 'n_estimators': 10}"
      ]
     },
     "execution_count": 120,
     "metadata": {},
     "output_type": "execute_result"
    }
   ],
   "source": [
    "grid_output[1].best_params_"
   ]
  },
  {
   "cell_type": "code",
   "execution_count": 148,
   "metadata": {},
   "outputs": [
    {
     "data": {
      "text/plain": [
       "{'criterion': 'gini', 'max_features': 'sqrt', 'n_estimators': 100}"
      ]
     },
     "execution_count": 148,
     "metadata": {},
     "output_type": "execute_result"
    }
   ],
   "source": [
    "grid_output2[1].best_params_"
   ]
  },
  {
   "cell_type": "code",
   "execution_count": 151,
   "metadata": {},
   "outputs": [
    {
     "name": "stdout",
     "output_type": "stream",
     "text": [
      "              precision    recall  f1-score   support\n",
      "\n",
      "           0       0.97      0.99      0.98       268\n",
      "           1       0.64      0.44      0.52        16\n",
      "\n",
      "    accuracy                           0.95       284\n",
      "   macro avg       0.80      0.71      0.75       284\n",
      "weighted avg       0.95      0.95      0.95       284\n",
      "\n"
     ]
    }
   ],
   "source": [
    "rf = RandomForestClassifier(criterion='gini', max_features='sqrt', n_estimators=100)\n",
    "rf.fit(X_train_scaled, y_train)\n",
    "\n",
    "y_hat_test = rf.predict(X_test_scaled)\n",
    "\n",
    "print(classification_report(y_test, y_hat_test))"
   ]
  },
  {
   "cell_type": "code",
   "execution_count": 123,
   "metadata": {},
   "outputs": [
    {
     "data": {
      "text/plain": [
       "{'C': 1.0, 'penalty': 'l2', 'solver': 'newton-cg'}"
      ]
     },
     "execution_count": 123,
     "metadata": {},
     "output_type": "execute_result"
    }
   ],
   "source": [
    "grid_output[2].best_params_"
   ]
  },
  {
   "cell_type": "code",
   "execution_count": 152,
   "metadata": {},
   "outputs": [
    {
     "data": {
      "text/plain": [
       "{'C': 0.01, 'penalty': 'l2', 'solver': 'newton-cg'}"
      ]
     },
     "execution_count": 152,
     "metadata": {},
     "output_type": "execute_result"
    }
   ],
   "source": [
    "grid_output2[2].best_params_"
   ]
  },
  {
   "cell_type": "code",
   "execution_count": 154,
   "metadata": {},
   "outputs": [
    {
     "name": "stdout",
     "output_type": "stream",
     "text": [
      "              precision    recall  f1-score   support\n",
      "\n",
      "           0       0.98      0.99      0.98       268\n",
      "           1       0.77      0.62      0.69        16\n",
      "\n",
      "    accuracy                           0.97       284\n",
      "   macro avg       0.87      0.81      0.84       284\n",
      "weighted avg       0.97      0.97      0.97       284\n",
      "\n"
     ]
    }
   ],
   "source": [
    "log = LogisticRegression(C = 1, penalty= 'l2', solver= 'newton-cg')\n",
    "\n",
    "log.fit(X_train_scaled, y_train)\n",
    "\n",
    "y_hat_test = log.predict(X_test_scaled)\n",
    "\n",
    "print(classification_report(y_test, y_hat_test))"
   ]
  },
  {
   "cell_type": "code",
   "execution_count": 126,
   "metadata": {},
   "outputs": [
    {
     "data": {
      "text/plain": [
       "{'n_estimators': 1000}"
      ]
     },
     "execution_count": 126,
     "metadata": {},
     "output_type": "execute_result"
    }
   ],
   "source": [
    "grid_output[3].best_params_"
   ]
  },
  {
   "cell_type": "code",
   "execution_count": 155,
   "metadata": {},
   "outputs": [
    {
     "data": {
      "text/plain": [
       "{'n_estimators': 10}"
      ]
     },
     "execution_count": 155,
     "metadata": {},
     "output_type": "execute_result"
    }
   ],
   "source": [
    "grid_output2[3].best_params_"
   ]
  },
  {
   "cell_type": "code",
   "execution_count": 157,
   "metadata": {},
   "outputs": [
    {
     "name": "stdout",
     "output_type": "stream",
     "text": [
      "              precision    recall  f1-score   support\n",
      "\n",
      "           0       0.97      0.98      0.98       268\n",
      "           1       0.62      0.50      0.55        16\n",
      "\n",
      "    accuracy                           0.95       284\n",
      "   macro avg       0.79      0.74      0.76       284\n",
      "weighted avg       0.95      0.95      0.95       284\n",
      "\n"
     ]
    }
   ],
   "source": [
    "bag_clf = BaggingClassifier(n_estimators=1000)\n",
    "\n",
    "bag_clf.fit(X_train_scaled, y_train)\n",
    "\n",
    "y_hat_test = bag_clf.predict(X_test_scaled)\n",
    "\n",
    "print(classification_report(y_test, y_hat_test))"
   ]
  },
  {
   "cell_type": "code",
   "execution_count": 128,
   "metadata": {},
   "outputs": [
    {
     "data": {
      "text/plain": [
       "{'metric': 'euclidean', 'n_neighbors': 15, 'weights': 'distance'}"
      ]
     },
     "execution_count": 128,
     "metadata": {},
     "output_type": "execute_result"
    }
   ],
   "source": [
    "grid_output[4].best_params_"
   ]
  },
  {
   "cell_type": "code",
   "execution_count": 158,
   "metadata": {},
   "outputs": [
    {
     "data": {
      "text/plain": [
       "{'metric': 'euclidean', 'n_neighbors': 7, 'weights': 'distance'}"
      ]
     },
     "execution_count": 158,
     "metadata": {},
     "output_type": "execute_result"
    }
   ],
   "source": [
    "grid_output2[4].best_params_"
   ]
  },
  {
   "cell_type": "code",
   "execution_count": 161,
   "metadata": {},
   "outputs": [
    {
     "name": "stdout",
     "output_type": "stream",
     "text": [
      "              precision    recall  f1-score   support\n",
      "\n",
      "           0       0.97      0.99      0.98       268\n",
      "           1       0.69      0.56      0.62        16\n",
      "\n",
      "    accuracy                           0.96       284\n",
      "   macro avg       0.83      0.77      0.80       284\n",
      "weighted avg       0.96      0.96      0.96       284\n",
      "\n"
     ]
    }
   ],
   "source": [
    "knn_clf = KNeighborsClassifier(metric='euclidean', n_neighbors= 7, weights= 'distance')\n",
    "\n",
    "knn_clf.fit(X_train_scaled, y_train)\n",
    "\n",
    "y_hat_test = knn_clf.predict(X_test_scaled)\n",
    "\n",
    "print(classification_report(y_test, y_hat_test))"
   ]
  },
  {
   "cell_type": "code",
   "execution_count": 246,
   "metadata": {},
   "outputs": [
    {
     "name": "stdout",
     "output_type": "stream",
     "text": [
      "AUC for 0.1: 0.9839085820895521\n",
      "-------------------------------------------------------------------------------------\n",
      "AUC for 0.25: 0.9846082089552239\n",
      "-------------------------------------------------------------------------------------\n",
      "AUC for 0.33: 0.9848414179104478\n",
      "-------------------------------------------------------------------------------------\n",
      "AUC for 0.5: 0.9857742537313432\n",
      "-------------------------------------------------------------------------------------\n",
      "AUC for 0.7: 0.9867070895522388\n",
      "-------------------------------------------------------------------------------------\n",
      "AUC for even: 0.9864738805970149\n",
      "-------------------------------------------------------------------------------------\n"
     ]
    },
    {
     "data": {
      "image/png": "[encoded data removed]",
      "text/plain": [
       "<Figure size 720x576 with 1 Axes>"
      ]
     },
     "metadata": {},
     "output_type": "display_data"
    }
   ],
   "source": [
    "ratios = [0.1, 0.25, 0.33, 0.5, 0.7, 1]\n",
    "names = ['0.1', '0.25', '0.33','0.5','0.7','even']\n",
    "colors = sns.color_palette('Set2')\n",
    "\n",
    "plt.figure(figsize=(10, 8))\n",
    "\n",
    "for n, ratio in enumerate(ratios):\n",
    "    smote = SMOTE(sampling_strategy=ratio, random_state=42)\n",
    "    X_train_resampled, y_train_resampled = smote.fit_sample(X_train_scaled, y_train)\n",
    "    log = LogisticRegression(solver= 'newton-cg', C = 1, penalty = 'l2')\n",
    "    log.fit(X_train_resampled, y_train_resampled)\n",
    "    \n",
    "    # Predict\n",
    "    y_hat_test = log.predict(X_test_scaled)\n",
    "\n",
    "    y_score = log.decision_function(X_test_scaled)\n",
    "\n",
    "    fpr, tpr, thresholds = roc_curve(y_test, y_score)\n",
    "    print('AUC for {}: {}'.format(names[n], auc(fpr, tpr)))\n",
    "    print('-------------------------------------------------------------------------------------')\n",
    "    lw = 2\n",
    "    plt.plot(fpr, tpr, color=colors[n],\n",
    "             lw=lw, label='ROC curve {}'.format(names[n]))\n",
    "\n",
    "plt.plot([0, 1], [0, 1], color='navy', lw=lw, linestyle='--')\n",
    "plt.xlim([0.0, 1.0])\n",
    "plt.ylim([0.0, 1.05])\n",
    "\n",
    "plt.yticks([i/20.0 for i in range(21)])\n",
    "plt.xticks([i/20.0 for i in range(21)])\n",
    "plt.xlabel('False Positive Rate')\n",
    "plt.ylabel('True Positive Rate')\n",
    "plt.title('Receiver operating characteristic (ROC) Curve')\n",
    "plt.legend(loc='lower right')\n",
    "plt.show()\n",
    "#print(classification_report(y_test, y_hat_test))"
   ]
  },
  {
   "cell_type": "markdown",
   "metadata": {},
   "source": [
    "After trying all of the sampling strategies, the best classifier to use is the Logisitic Regression with these hyperparameters detailed below."
   ]
  },
  {
   "cell_type": "code",
   "execution_count": 273,
   "metadata": {},
   "outputs": [
    {
     "name": "stdout",
     "output_type": "stream",
     "text": [
      "              precision    recall  f1-score   support\n",
      "\n",
      "           0       1.00      0.97      0.99       268\n",
      "           1       0.70      1.00      0.82        16\n",
      "\n",
      "    accuracy                           0.98       284\n",
      "   macro avg       0.85      0.99      0.90       284\n",
      "weighted avg       0.98      0.98      0.98       284\n",
      "\n"
     ]
    }
   ],
   "source": [
    "smote = SMOTE(sampling_strategy= .5, random_state = 42)\n",
    "X_train_resampled, y_train_resampled = smote.fit_sample(X_train_scaled, y_train)\n",
    "log = LogisticRegression(solver= 'liblinear', C = 1, penalty = 'l1')\n",
    "log.fit(X_train_resampled, y_train_resampled)\n",
    "    \n",
    "# Predict\n",
    "y_hat_test = log.predict(X_test_scaled)\n",
    "\n",
    "y_score = log.decision_function(X_test_scaled)\n",
    "\n",
    "print(classification_report(y_test, y_hat_test))"
   ]
  },
  {
   "cell_type": "code",
   "execution_count": 274,
   "metadata": {},
   "outputs": [
    {
     "name": "stdout",
     "output_type": "stream",
     "text": [
      "Feature: Age Score: -2.684745412836765\n",
      "Feature: Number of sexual partners Score: 0.0\n",
      "Feature: First sexual intercourse Score: -0.486715545263807\n",
      "Feature: Num of pregnancies Score: 0.0\n",
      "Feature: Smokes Score: 0.0\n",
      "Feature: Smokes (years) Score: 0.0\n",
      "Feature: Smokes (packs/year) Score: 0.0\n",
      "Feature: Hormonal Contraceptives Score: 1.0260339823958622\n",
      "Feature: Hormonal Contraceptives (years) Score: 0.0\n",
      "Feature: IUD Score: 0.0\n",
      "Feature: IUD (years) Score: 0.0\n",
      "Feature: STDs Score: 0.0\n",
      "Feature: STDs (number) Score: 0.0\n",
      "Feature: STDs:condylomatosis Score: 0.0\n",
      "Feature: STDs:cervical condylomatosis Score: 0.0\n",
      "Feature: STDs:vaginal condylomatosis Score: 0.0\n",
      "Feature: STDs:vulvo-perineal condylomatosis Score: 0.0\n",
      "Feature: STDs:syphilis Score: 0.0\n",
      "Feature: STDs:pelvic inflammatory disease Score: 0.0\n",
      "Feature: STDs:genital herpes Score: 0.0\n",
      "Feature: STDs:molluscum contagiosum Score: 0.0\n",
      "Feature: STDs:AIDS Score: 0.0\n",
      "Feature: STDs:HIV Score: 0.0\n",
      "Feature: STDs:Hepatitis B Score: 0.0\n",
      "Feature: STDs:HPV Score: 0.0\n",
      "Feature: STDs: Number of diagnosis Score: 0.0\n",
      "Feature: Dx:Cancer Score: 0.0\n",
      "Feature: Dx:CIN Score: 2.5115478634085457\n",
      "Feature: Dx:HPV Score: 0.0\n",
      "Feature: Dx Score: 0.0\n",
      "Feature: Hinselmann Score: 0.5401054107505473\n",
      "Feature: Schiller Score: 4.709705524004864\n",
      "Feature: Citology Score: 1.7664010626042121\n"
     ]
    }
   ],
   "source": [
    "\n",
    "# get importance\n",
    "importance = log.coef_[0]\n",
    "features = []\n",
    "\n",
    "# summarize feature importance\n",
    "for i,v in enumerate(importance):\n",
    "    features.append(df.columns[i])\n",
    "    print('Feature:',df.columns[i], 'Score:',v )\n",
    "# plot feature importance\n",
    "#pyplot.bar([x for x in range(len(importance))], importance)\n",
    "#pyplot.show()\n",
    "\n"
   ]
  },
  {
   "cell_type": "code",
   "execution_count": 282,
   "metadata": {},
   "outputs": [
    {
     "data": {
      "image/png": "[encoded data removed]",
      "text/plain": [
       "<Figure size 720x504 with 1 Axes>"
      ]
     },
     "metadata": {},
     "output_type": "display_data"
    }
   ],
   "source": [
    "name = []\n",
    "coefficient = []\n",
    "for i, coef in enumerate(log.coef_[0]):\n",
    "    if coef > 0:\n",
    "        name.append(df.columns[i])\n",
    "        coefficient.append(coef)\n",
    "sns.set()      \n",
    "plt.figure(figsize = (10,7))\n",
    "sns.barplot(name, coefficient)\n",
    "plt.title('Feature importance according to Logistic Regression', fontdict={ 'fontsize': 15})\n",
    "plt.xlabel('Coefficent')\n",
    "plt.ylabel('Feature')\n",
    "plt.show();"
   ]
  },
  {
   "cell_type": "code",
   "execution_count": 308,
   "metadata": {},
   "outputs": [
    {
     "data": {
      "image/png": "[encoded data removed]",
      "text/plain": [
       "<Figure size 432x288 with 2 Axes>"
      ]
     },
     "metadata": {},
     "output_type": "display_data"
    },
    {
     "data": {
      "image/png": "[encoded data removed]",
      "text/plain": [
       "<Figure size 432x288 with 2 Axes>"
      ]
     },
     "metadata": {},
     "output_type": "display_data"
    }
   ],
   "source": [
    "#sns.heatmap([y_test, y_hat_test], annot=True)\n",
    "sns.set()\n",
    "sns.set_style(\"whitegrid\", {'axes.grid' : False})\n",
    "plot_confusion_matrix(log.fit(X_train_resampled, y_train_resampled),X_test_scaled, y_test, \n",
    "                      cmap = plt.cm.Blues, \n",
    "                      normalize = 'true',\n",
    "                      display_labels= ['Actual', 'Predicted'],\n",
    "                      #labels = ['Biopsy', 'd', 'd', 'd', 'd', 'd']\n",
    "                    );\n",
    "plt.xlabel('Predicted Biopsy')\n",
    "plt.ylabel('True Biopsy')\n",
    "plt.title('Confusion Matrix of Biopsy', \n",
    "          fontdict = {'fontsize': 15})\n",
    "plt.show();\n",
    "\n",
    "plot_confusion_matrix(log.fit(X_train_resampled, y_train_resampled),X_test_scaled, y_test, \n",
    "                      cmap = plt.cm.Blues, \n",
    "                      display_labels= ['Actual', 'Predicted'],\n",
    "                      #labels = ['Biopsy', 'd', 'd', 'd', 'd', 'd']\n",
    "                    );\n",
    "plt.xlabel('Predicted Biopsy')\n",
    "plt.ylabel('True Biopsy')\n",
    "plt.title('Confusion Matrix of Biopsy', \n",
    "          fontdict = {'fontsize': 15})\n",
    "plt.show();\n"
   ]
  },
  {
   "cell_type": "code",
   "execution_count": 142,
   "metadata": {},
   "outputs": [
    {
     "name": "stdout",
     "output_type": "stream",
     "text": [
      "              precision    recall  f1-score   support\n",
      "\n",
      "           0       0.97      0.98      0.98       268\n",
      "           1       0.62      0.50      0.55        16\n",
      "\n",
      "    accuracy                           0.95       284\n",
      "   macro avg       0.79      0.74      0.76       284\n",
      "weighted avg       0.95      0.95      0.95       284\n",
      "\n"
     ]
    }
   ],
   "source": [
    "boost = xgb.XGBClassifier()\n",
    "boost.fit(X_train_scaled, y_train)\n",
    "\n",
    "y_hat_test = boost.predict(X_test_scaled)\n",
    "\n",
    "print(classification_report(y_test, y_hat_test))"
   ]
  },
  {
   "cell_type": "markdown",
   "metadata": {},
   "source": [
    "# Conclusion\n",
    "\n",
    "The introduction of SMOTE increased the precision, recall, and f1-score of the model. Using a sampling ratio of 0.1, the overall weighted accuracy is 98%. However the real story is the recall percentage, which is at 100%. This number is more important for this. The higher the recall, the better we are able to prevent false negatives. This is to say we don't want people who have cancer, to die because we did not detect that a person does have cancer. The higher the percentage, the less people we miss. Having a 100% accuracy prevents any false negatives from recurring.\n",
    "\n",
    "\n",
    "The more complex machine leaerning methods for prediction did not have as good a recall score as the Logistic Regression. The Support Vector Classification had a similar recall score and precision score. However the Recall score of the Logistic Regression will save lives as opposed to the lower recall score of the Support Vector Machine.\n",
    "\n",
    "# Recommendations\n",
    "\n",
    "The Hospital should use this model to assist their doctors with the determination of doing a Biopsy on a patient who has a risk for cervical cancer.\n",
    "\n",
    "- Advise patients to stop smoking or at least lower the amount of times they smoke\n",
    "- Advise patients to practice safer sex.\n",
    "- Hormonal Contraceptives and IUD usage shows an increased risk for a Biopsy as. Advise not to use these for a lowered risk\n",
    "\n",
    "\n"
   ]
  },
  {
   "cell_type": "code",
   "execution_count": null,
   "metadata": {},
   "outputs": [],
   "source": []
  }
 ],
 "metadata": {
  "kernelspec": {
   "display_name": "Python 3",
   "language": "python",
   "name": "python3"
  },
  "language_info": {
   "codemirror_mode": {
    "name": "ipython",
    "version": 3
   },
   "file_extension": ".py",
   "mimetype": "text/x-python",
   "name": "python",
   "nbconvert_exporter": "python",
   "pygments_lexer": "ipython3",
   "version": "3.7.4"
  }
 },
 "nbformat": 4,
 "nbformat_minor": 2
}
